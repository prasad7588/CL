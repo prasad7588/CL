{
 "cells": [
  {
   "cell_type": "markdown",
   "id": "23648474-394d-4fd9-b499-52fbfc612486",
   "metadata": {},
   "source": [
    "Title : Randomisation Benchmarking Protocol"
   ]
  },
  {
   "cell_type": "code",
   "execution_count": 1,
   "id": "1f4df3d8-d312-46c7-a582-e49cbc4c0487",
   "metadata": {
    "tags": []
   },
   "outputs": [
    {
     "name": "stderr",
     "output_type": "stream",
     "text": [
      "/tmp/ipykernel_1339/4273929913.py:36: DeprecationWarning: The return type of saved statevectors has been changed from a `numpy.ndarray` to a `qiskit.quantum_info.Statevector` as of qiskit-aer 0.10. Accessing numpy array attributes is deprecated and will result in an error in a future release. To continue using saved result objects as arrays you can explicitly cast them using  `np.asarray(object)`.\n",
      "  fidelity = np.abs(np.dot(final_statevector, inverse_statevector.conj())) ** 2\n"
     ]
    },
    {
     "name": "stdout",
     "output_type": "stream",
     "text": [
      "[0.6083172764220851, 0.6932170742787327, 0.7039259927778176, 0.7186785589338406]\n"
     ]
    }
   ],
   "source": [
    "import numpy as np\n",
    "from qiskit import QuantumCircuit, transpile, Aer, execute\n",
    "\n",
    "# Generate a random quantum circuit\n",
    "def generate_random_circuit(num_qubits, depth):\n",
    "    circuit = QuantumCircuit(num_qubits, num_qubits)\n",
    "    for _ in range(depth):\n",
    "        for qubit in range(num_qubits):\n",
    "            circuit.rx(np.random.uniform(0, 2 * np.pi), qubit)\n",
    "            circuit.ry(np.random.uniform(0, 2 * np.pi), qubit)\n",
    "            circuit.rz(np.random.uniform(0, 2 * np.pi), qubit)\n",
    "        for qubit in range(num_qubits - 1):\n",
    "            circuit.cz(qubit, qubit + 1)\n",
    "    return circuit\n",
    "\n",
    "# Perform randomized benchmarking\n",
    "def randomized_benchmarking(num_qubits, depths, num_sequences, shots):\n",
    "    backend = Aer.get_backend('statevector_simulator')\n",
    "    results = []\n",
    "    for depth in depths:\n",
    "        success_counts = 0\n",
    "        for _ in range(num_sequences):\n",
    "            # Generate a random circuit and the corresponding inverse circuit\n",
    "            circuit = generate_random_circuit(num_qubits, depth)\n",
    "            inverse_circuit = circuit.inverse()\n",
    "\n",
    "            # Apply the circuit and obtain the final statevector\n",
    "            circuit_result = execute(circuit, backend=backend).result()\n",
    "            final_statevector = circuit_result.get_statevector()\n",
    "\n",
    "            # Apply the inverse circuit and obtain the final statevector\n",
    "            inverse_result = execute(inverse_circuit, backend=backend).result()\n",
    "            inverse_statevector = inverse_result.get_statevector()\n",
    "\n",
    "            # Calculate the success rate based on state fidelity\n",
    "            fidelity = np.abs(np.dot(final_statevector, inverse_statevector.conj())) ** 2\n",
    "            success_counts += shots * (1 - fidelity)\n",
    "\n",
    "        success_rate = success_counts / (num_sequences * shots)\n",
    "        results.append(success_rate)\n",
    "    return results\n",
    "\n",
    "# Example usage\n",
    "num_qubits = 2\n",
    "depths = [1, 2, 3, 4]\n",
    "num_sequences = 100\n",
    "shots = 1024\n",
    "\n",
    "results = randomized_benchmarking(num_qubits, depths, num_sequences, shots)\n",
    "print(results)\n"
   ]
  },
  {
   "cell_type": "code",
   "execution_count": null,
   "id": "56489e83-13c4-489f-84b5-861fc49ce5a9",
   "metadata": {},
   "outputs": [],
   "source": []
  }
 ],
 "metadata": {
  "kernelspec": {
   "display_name": "Python 3 (ipykernel)",
   "language": "python",
   "name": "python3"
  },
  "language_info": {
   "codemirror_mode": {
    "name": "ipython",
    "version": 3
   },
   "file_extension": ".py",
   "mimetype": "text/x-python",
   "name": "python",
   "nbconvert_exporter": "python",
   "pygments_lexer": "ipython3",
   "version": "3.10.8"
  },
  "widgets": {
   "application/vnd.jupyter.widget-state+json": {
    "state": {},
    "version_major": 2,
    "version_minor": 0
   }
  }
 },
 "nbformat": 4,
 "nbformat_minor": 5
}
