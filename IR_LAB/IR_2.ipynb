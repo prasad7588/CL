{
 "cells": [
  {
   "cell_type": "markdown",
   "id": "9c496f48-57da-4a30-b9e0-fee6161c89e9",
   "metadata": {},
   "source": [
    "### Implement a program for retrieval of documents using inverted files"
   ]
  },
  {
   "cell_type": "code",
   "execution_count": null,
   "id": "7a2d9bcb-52c1-4ab1-b1ad-9020e551e17a",
   "metadata": {},
   "outputs": [],
   "source": [
    "document_1=\"The quick brown fox jumped over the lazy dog.\""
   ]
  },
  {
   "cell_type": "code",
   "execution_count": 20,
   "id": "ba4c2498-a1e0-4db2-a5fb-dba0ab66a810",
   "metadata": {},
   "outputs": [],
   "source": [
    "documnet_2=\"The lazy dog slept in the sun.\""
   ]
  },
  {
   "cell_type": "code",
   "execution_count": 21,
   "id": "2397aa5b-20cd-4ce4-862b-56f5a4542cd7",
   "metadata": {},
   "outputs": [],
   "source": [
    "import nltk"
   ]
  },
  {
   "cell_type": "code",
   "execution_count": 22,
   "id": "7f56dc03-f1c5-4ce7-a56d-fbf9b4293448",
   "metadata": {},
   "outputs": [],
   "source": [
    "from nltk.tokenize import word_tokenize"
   ]
  },
  {
   "cell_type": "code",
   "execution_count": 23,
   "id": "ff6729ed-0bbd-40e0-9006-608b36f84550",
   "metadata": {},
   "outputs": [],
   "source": [
    "token_1=word_tokenize(document_1)"
   ]
  },
  {
   "cell_type": "code",
   "execution_count": 24,
   "id": "0ec639a8-fe86-45b6-9f05-44a5b5da66d2",
   "metadata": {},
   "outputs": [],
   "source": [
    "token_2=word_tokenize(documnet_2)"
   ]
  },
  {
   "cell_type": "code",
   "execution_count": 25,
   "id": "9dffffb5-4d69-4133-b62b-456e97d11aa6",
   "metadata": {},
   "outputs": [],
   "source": [
    "terms=list(set(token_1+token_2))"
   ]
  },
  {
   "cell_type": "code",
   "execution_count": 26,
   "id": "62cbd6fa-91c5-4df0-b4c5-80469ee6206b",
   "metadata": {},
   "outputs": [],
   "source": [
    "inverted_index={}\n"
   ]
  },
  {
   "cell_type": "code",
   "execution_count": 27,
   "id": "888f36e3-7e92-4b30-aa04-891857e131eb",
   "metadata": {},
   "outputs": [],
   "source": [
    "for i in terms:\n",
    "    documents=[]\n",
    "    if i in token_1:\n",
    "        documents.append(\"Document_1\")\n",
    "    if i in token_2:\n",
    "        documents.append(\"Document_2\")\n",
    "    inverted_index[i]=documents\n"
   ]
  },
  {
   "cell_type": "code",
   "execution_count": 43,
   "id": "06c2a59e-7990-4d74-a691-520dfbc60ba7",
   "metadata": {},
   "outputs": [
    {
     "name": "stdout",
     "output_type": "stream",
     "text": [
      "jumped :- Document_1,Document_2\n",
      "The :- Document_1,Document_2\n",
      "brown :- Document_1,Document_2\n",
      "over :- Document_1,Document_2\n",
      "lazy :- Document_1,Document_2\n",
      "dog :- Document_1,Document_2\n",
      "slept :- Document_1,Document_2\n",
      ". :- Document_1,Document_2\n",
      "sun :- Document_1,Document_2\n",
      "fox :- Document_1,Document_2\n",
      "quick :- Document_1,Document_2\n",
      "in :- Document_1,Document_2\n",
      "the :- Document_1,Document_2\n"
     ]
    }
   ],
   "source": [
    "for i,j in inverted_index.items():\n",
    "    print(i,\":-\",\",\".join(documents))"
   ]
  },
  {
   "cell_type": "code",
   "execution_count": 32,
   "id": "444fcae3-f1f4-4b34-9101-db0567a2d518",
   "metadata": {},
   "outputs": [
    {
     "data": {
      "text/plain": [
       "('the', ['Document_1', 'Document_2'])"
      ]
     },
     "execution_count": 32,
     "metadata": {},
     "output_type": "execute_result"
    }
   ],
   "source": [
    "term, documents"
   ]
  },
  {
   "cell_type": "code",
   "execution_count": 38,
   "id": "0485a1e5-13fe-42d6-84ba-a2aef70b40bb",
   "metadata": {},
   "outputs": [
    {
     "data": {
      "text/plain": [
       "dict_items([('jumped', ['Document_1']), ('The', ['Document_1', 'Document_2']), ('brown', ['Document_1']), ('over', ['Document_1']), ('lazy', ['Document_1', 'Document_2']), ('dog', ['Document_1', 'Document_2']), ('slept', ['Document_2']), ('.', ['Document_1', 'Document_2']), ('sun', ['Document_2']), ('fox', ['Document_1']), ('quick', ['Document_1']), ('in', ['Document_2']), ('the', ['Document_1', 'Document_2'])])"
      ]
     },
     "execution_count": 38,
     "metadata": {},
     "output_type": "execute_result"
    }
   ],
   "source": [
    "inverted_index.items()"
   ]
  },
  {
   "cell_type": "code",
   "execution_count": null,
   "id": "7cff9571-5619-40d9-9be7-ec44227347a1",
   "metadata": {},
   "outputs": [],
   "source": []
  }
 ],
 "metadata": {
  "kernelspec": {
   "display_name": "Python 3 (ipykernel)",
   "language": "python",
   "name": "python3"
  },
  "language_info": {
   "codemirror_mode": {
    "name": "ipython",
    "version": 3
   },
   "file_extension": ".py",
   "mimetype": "text/x-python",
   "name": "python",
   "nbconvert_exporter": "python",
   "pygments_lexer": "ipython3",
   "version": "3.12.1"
  }
 },
 "nbformat": 4,
 "nbformat_minor": 5
}
