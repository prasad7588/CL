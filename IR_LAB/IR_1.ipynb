{
 "cells": [
  {
   "cell_type": "markdown",
   "id": "57966cd6-cb5a-4d0d-91c2-59dff29fc569",
   "metadata": {},
   "source": [
    "## Write a program for pre-processing of a text document such as stop word removal,stemming.  "
   ]
  },
  {
   "cell_type": "code",
   "execution_count": 17,
   "id": "dfc479b3-e032-443e-bf97-a2780b5f4aed",
   "metadata": {},
   "outputs": [],
   "source": [
    "import nltk"
   ]
  },
  {
   "cell_type": "code",
   "execution_count": 18,
   "id": "92f7f399-ed14-4ec3-a2b0-7ad8df91c934",
   "metadata": {},
   "outputs": [],
   "source": [
    "from nltk.tokenize import word_tokenize"
   ]
  },
  {
   "cell_type": "code",
   "execution_count": 19,
   "id": "e8304a68-0c2f-4d33-9936-7cd6b3ca1294",
   "metadata": {},
   "outputs": [],
   "source": [
    "from nltk.corpus import stopwords"
   ]
  },
  {
   "cell_type": "code",
   "execution_count": 20,
   "id": "4b479763-c4e1-43c5-8e0d-abbd500fa456",
   "metadata": {},
   "outputs": [],
   "source": [
    "from nltk.stem import PorterStemmer"
   ]
  },
  {
   "cell_type": "code",
   "execution_count": 21,
   "id": "76ba6c78-7de2-4e6b-9597-050523a3a658",
   "metadata": {},
   "outputs": [
    {
     "name": "stderr",
     "output_type": "stream",
     "text": [
      "[nltk_data] Downloading package punkt to\n",
      "[nltk_data]     C:\\Users\\PRASAD\\AppData\\Roaming\\nltk_data...\n",
      "[nltk_data]   Package punkt is already up-to-date!\n"
     ]
    },
    {
     "data": {
      "text/plain": [
       "True"
      ]
     },
     "execution_count": 21,
     "metadata": {},
     "output_type": "execute_result"
    }
   ],
   "source": [
    "nltk.download('punkt')"
   ]
  },
  {
   "cell_type": "code",
   "execution_count": 22,
   "id": "a80c776c-0a16-41d0-ac00-56ab7311248e",
   "metadata": {},
   "outputs": [
    {
     "name": "stderr",
     "output_type": "stream",
     "text": [
      "[nltk_data] Downloading package stopwords to\n",
      "[nltk_data]     C:\\Users\\PRASAD\\AppData\\Roaming\\nltk_data...\n",
      "[nltk_data]   Package stopwords is already up-to-date!\n"
     ]
    },
    {
     "data": {
      "text/plain": [
       "True"
      ]
     },
     "execution_count": 22,
     "metadata": {},
     "output_type": "execute_result"
    }
   ],
   "source": [
    "nltk.download('stopwords')"
   ]
  },
  {
   "cell_type": "code",
   "execution_count": 23,
   "id": "26f726d2-1d9b-49af-a5bc-c2abf1f52c08",
   "metadata": {},
   "outputs": [],
   "source": [
    "text=\"I am Prasad Thete final year engineering student studying in MET BKC Nashik\"\n"
   ]
  },
  {
   "cell_type": "code",
   "execution_count": 24,
   "id": "9e3ee428-7493-4201-bf86-284b76b45125",
   "metadata": {},
   "outputs": [],
   "source": [
    "tokens=word_tokenize(text)"
   ]
  },
  {
   "cell_type": "code",
   "execution_count": 25,
   "id": "6bddb7f4-7542-4141-bf36-d908730cda35",
   "metadata": {},
   "outputs": [
    {
     "name": "stdout",
     "output_type": "stream",
     "text": [
      "tokens of our text are ['I', 'am', 'Prasad', 'Thete', 'final', 'year', 'engineering', 'student', 'studying', 'in', 'MET', 'BKC', 'Nashik']\n"
     ]
    }
   ],
   "source": [
    "print(f\"tokens of our text are {tokens}\")"
   ]
  },
  {
   "cell_type": "code",
   "execution_count": 26,
   "id": "c6548ccc-2d07-4a68-960d-013efe2c8e15",
   "metadata": {},
   "outputs": [],
   "source": [
    "stop_words=set(stopwords.words(\"english\"))"
   ]
  },
  {
   "cell_type": "code",
   "execution_count": 27,
   "id": "72596d28-1f3f-468d-b37f-145bfa4f5fbf",
   "metadata": {},
   "outputs": [],
   "source": [
    "filter_tokens=[i for i in tokens if i not in stop_words]"
   ]
  },
  {
   "cell_type": "code",
   "execution_count": 28,
   "id": "b8a99a5c-1233-404c-93bd-8339319d6964",
   "metadata": {},
   "outputs": [
    {
     "name": "stdout",
     "output_type": "stream",
     "text": [
      "filter tokens of our text are ['I', 'Prasad', 'Thete', 'final', 'year', 'engineering', 'student', 'studying', 'MET', 'BKC', 'Nashik']\n"
     ]
    }
   ],
   "source": [
    "print(f\"filter tokens of our text are {filter_tokens}\")"
   ]
  },
  {
   "cell_type": "code",
   "execution_count": 29,
   "id": "0a3f956f-731d-4e5c-a031-c6556f0779db",
   "metadata": {},
   "outputs": [],
   "source": [
    "steamer=PorterStemmer()"
   ]
  },
  {
   "cell_type": "code",
   "execution_count": 30,
   "id": "061a7846-4dd8-4ce6-9eb7-44a1804382ff",
   "metadata": {},
   "outputs": [],
   "source": [
    "steame_tokens=[steamer.stem(i) for i in filter_tokens]"
   ]
  },
  {
   "cell_type": "code",
   "execution_count": 31,
   "id": "412ada20-94aa-459a-85db-ac6bd62a1ade",
   "metadata": {},
   "outputs": [
    {
     "name": "stdout",
     "output_type": "stream",
     "text": [
      "steamed tokens are ['i', 'prasad', 'thete', 'final', 'year', 'engin', 'student', 'studi', 'met', 'bkc', 'nashik']\n"
     ]
    }
   ],
   "source": [
    "print(f\"steamed tokens are {steame_tokens}\")"
   ]
  },
  {
   "cell_type": "code",
   "execution_count": null,
   "id": "c6066119-5b55-4f7c-809f-7eb3198de438",
   "metadata": {},
   "outputs": [],
   "source": []
  },
  {
   "cell_type": "code",
   "execution_count": null,
   "id": "63da8686-d156-42a1-83ad-d7970ef283d5",
   "metadata": {},
   "outputs": [],
   "source": []
  }
 ],
 "metadata": {
  "kernelspec": {
   "display_name": "Python 3 (ipykernel)",
   "language": "python",
   "name": "python3"
  },
  "language_info": {
   "codemirror_mode": {
    "name": "ipython",
    "version": 3
   },
   "file_extension": ".py",
   "mimetype": "text/x-python",
   "name": "python",
   "nbconvert_exporter": "python",
   "pygments_lexer": "ipython3",
   "version": "3.12.1"
  }
 },
 "nbformat": 4,
 "nbformat_minor": 5
}
