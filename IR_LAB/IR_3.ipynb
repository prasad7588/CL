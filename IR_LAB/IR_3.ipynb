{
 "cells": [
  {
   "cell_type": "markdown",
   "id": "2c6ee039-fabe-49ca-bda5-a25617019b99",
   "metadata": {},
   "source": [
    "### Write a program to construct a Bayesian network considering medical data. Use this \n",
    "### model to demonstrate the diagnosis of heart patients using the standard Heart Disease \n",
    "### Data Set (You can use Java/Python ML library classes/API.)"
   ]
  },
  {
   "cell_type": "code",
   "execution_count": 1,
   "id": "9aa95937-bf23-4d3e-a889-8817edddfe86",
   "metadata": {},
   "outputs": [
    {
     "name": "stderr",
     "output_type": "stream",
     "text": [
      "WARNING:pgmpy:BayesianModel has been renamed to BayesianNetwork. Please use BayesianNetwork class, BayesianModel will be removed in future.\n",
      "WARNING:pgmpy:BayesianModel has been renamed to BayesianNetwork. Please use BayesianNetwork class, BayesianModel will be removed in future.\n",
      "WARNING:pgmpy:BayesianModel has been renamed to BayesianNetwork. Please use BayesianNetwork class, BayesianModel will be removed in future.\n",
      "WARNING:pgmpy:BayesianModel has been renamed to BayesianNetwork. Please use BayesianNetwork class, BayesianModel will be removed in future.\n",
      "WARNING:pgmpy:BayesianModel has been renamed to BayesianNetwork. Please use BayesianNetwork class, BayesianModel will be removed in future.\n"
     ]
    },
    {
     "name": "stdout",
     "output_type": "stream",
     "text": [
      "Few examples from the dataset are given below:\n",
      "\n",
      "   age  sex  cp  trestbps  chol  fbs  restecg  thalach  exang  oldpeak  slope  \\\n",
      "0   52    1   0       125   212    0        1      168      0      1.0      2   \n",
      "1   53    1   0       140   203    1        0      155      1      3.1      0   \n",
      "2   70    1   0       145   174    0        1      125      1      2.6      0   \n",
      "3   61    1   0       148   203    0        1      161      0      0.0      2   \n",
      "4   62    0   0       138   294    1        1      106      0      1.9      1   \n",
      "\n",
      "   ca  thal  target  \n",
      "0   2     3       0  \n",
      "1   0     3       0  \n",
      "2   0     3       0  \n",
      "3   1     3       0  \n",
      "4   3     2       0  \n",
      "\n",
      "Learning CPD using Maximum Likelihood Estimators\n",
      "\n",
      "Inferencing with Bayesian Network:\n",
      "1. Probability of HeartDisease given Age=38\n",
      "+-----------+---------------+\n",
      "| target    |   phi(target) |\n",
      "+===========+===============+\n",
      "| target(0) |        0.2967 |\n",
      "+-----------+---------------+\n",
      "| target(1) |        0.7033 |\n",
      "+-----------+---------------+\n",
      "\n",
      "2. Probability of HeartDisease given Cholesterol=230\n",
      "+-----------+---------------+\n",
      "| target    |   phi(target) |\n",
      "+===========+===============+\n",
      "| target(0) |        1.0000 |\n",
      "+-----------+---------------+\n",
      "| target(1) |        0.0000 |\n",
      "+-----------+---------------+\n"
     ]
    }
   ],
   "source": [
    "# Import necessary libraries\n",
    "import numpy as np\n",
    "import pandas as pd\n",
    "from pgmpy.models import BayesianModel\n",
    "from pgmpy.estimators import MaximumLikelihoodEstimator\n",
    "from pgmpy.inference import VariableElimination\n",
    "\n",
    "# Load the dataset\n",
    "heartDisease = pd.read_csv('heart.csv')\n",
    "heartDisease = heartDisease.replace('?', np.nan)\n",
    "\n",
    "# Display the data\n",
    "print(\"Few examples from the dataset are given below:\\n\")\n",
    "print(heartDisease.head())\n",
    "\n",
    "# Define the structure of the Bayesian Network\n",
    "model = BayesianModel([\n",
    "    ('age', 'trestbps'), \n",
    "    ('age', 'fbs'), \n",
    "    ('sex', 'trestbps'), \n",
    "    ('exang', 'trestbps'), \n",
    "    ('trestbps', 'target'),     # Changed 'heartdisease' to 'target'\n",
    "    ('fbs', 'target'),          # Changed 'heartdisease' to 'target'\n",
    "    ('target', 'restecg'), \n",
    "    ('target', 'thalach'), \n",
    "    ('target', 'chol')\n",
    "])\n",
    "\n",
    "# Learning CPDs using Maximum Likelihood Estimators\n",
    "print('\\nLearning CPD using Maximum Likelihood Estimators')\n",
    "model.fit(heartDisease, estimator=MaximumLikelihoodEstimator)\n",
    "\n",
    "# Inferencing with Bayesian Network\n",
    "print('\\nInferencing with Bayesian Network:')\n",
    "HeartDisease_infer = VariableElimination(model)\n",
    "\n",
    "# Computing the Probability of HeartDisease (target) given Age=38\n",
    "print('1. Probability of HeartDisease given Age=38')\n",
    "q1 = HeartDisease_infer.query(variables=['target'], evidence={'age': 38})\n",
    "print(q1)\n",
    "\n",
    "# Computing the Probability of HeartDisease (target) given Cholesterol=230\n",
    "print('\\n2. Probability of HeartDisease given Cholesterol=230')\n",
    "q2 = HeartDisease_infer.query(variables=['target'], evidence={'chol': 230})\n",
    "print(q2)\n"
   ]
  },
  {
   "cell_type": "code",
   "execution_count": null,
   "id": "fc4a212a-4870-4d73-8d44-37e4698631cc",
   "metadata": {},
   "outputs": [],
   "source": []
  },
  {
   "cell_type": "code",
   "execution_count": null,
   "id": "ef5580c7-53a7-47a4-a37d-2f1441ce8346",
   "metadata": {},
   "outputs": [],
   "source": []
  }
 ],
 "metadata": {
  "kernelspec": {
   "display_name": "Python 3 (ipykernel)",
   "language": "python",
   "name": "python3"
  },
  "language_info": {
   "codemirror_mode": {
    "name": "ipython",
    "version": 3
   },
   "file_extension": ".py",
   "mimetype": "text/x-python",
   "name": "python",
   "nbconvert_exporter": "python",
   "pygments_lexer": "ipython3",
   "version": "3.12.1"
  }
 },
 "nbformat": 4,
 "nbformat_minor": 5
}
